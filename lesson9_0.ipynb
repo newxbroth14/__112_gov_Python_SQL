{
 "cells": [
  {
   "cell_type": "code",
   "execution_count": 2,
   "metadata": {},
   "outputs": [
    {
     "data": {
      "text/plain": [
       "{'Name': 'Josh', 'Englsih': 99, 'Math': 60, 'Chiness': 85}"
      ]
     },
     "execution_count": 2,
     "metadata": {},
     "output_type": "execute_result"
    }
   ],
   "source": [
    "#使用dictionary，建立資料\n",
    "\n",
    "Students_score:dict[str,int] = [{'Name':'Josh','Englsih':99,'Math':60,'Chiness':85},\n",
    "                  {'Name':'Jone','Englsih':99,'Math':80,'Chiness':75},\n",
    "                  {'Name':'Nash','Englsih':99,'Math':50,'Chiness':100},\n",
    "                  ]\n",
    "\n",
    "\n",
    "\n"
   ]
  },
  {
   "cell_type": "code",
   "execution_count": 7,
   "metadata": {},
   "outputs": [
    {
     "name": "stdout",
     "output_type": "stream",
     "text": [
      "Jone\n"
     ]
    }
   ],
   "source": [
    "print(Students_score[1]['Name'])"
   ]
  },
  {
   "cell_type": "code",
   "execution_count": 8,
   "metadata": {},
   "outputs": [
    {
     "name": "stdout",
     "output_type": "stream",
     "text": [
      "10\n",
      "20\n",
      "30\n"
     ]
    }
   ],
   "source": [
    "values:list = [10,20,30]\n",
    "print(values[0])\n",
    "print(values[1])\n",
    "print(values[2])"
   ]
  },
  {
   "cell_type": "code",
   "execution_count": 21,
   "metadata": {},
   "outputs": [
    {
     "name": "stdout",
     "output_type": "stream",
     "text": [
      "<class 'list'>\n",
      "Name:Josh\n",
      "Englsih:99\n",
      "Math:60\n",
      "Chiness:85\n",
      "==================\n",
      "<class 'list'>\n",
      "Name:Jone\n",
      "Englsih:99\n",
      "Math:80\n",
      "Chiness:75\n",
      "==================\n",
      "<class 'list'>\n",
      "Name:Nash\n",
      "Englsih:99\n",
      "Math:50\n",
      "Chiness:100\n",
      "==================\n"
     ]
    }
   ],
   "source": [
    "for value in Students_score:\n",
    "    print(type(Students_score))\n",
    "    for key in value:\n",
    "        print(f'{key}:{value[key]}')\n",
    "    print(f'==================')\n"
   ]
  },
  {
   "cell_type": "code",
   "execution_count": 24,
   "metadata": {},
   "outputs": [
    {
     "name": "stdout",
     "output_type": "stream",
     "text": [
      "Index: 0\n",
      "Index: 10\n",
      "===============\n",
      "Index: 1\n",
      "Index: 20\n",
      "===============\n",
      "Index: 2\n",
      "Index: 30\n",
      "===============\n"
     ]
    }
   ],
   "source": [
    "tup:tuple[int] = (10,20,30)\n",
    "\n",
    "for idx,value in enumerate(tup):\n",
    "    print(f'Index: {idx}')\n",
    "    print(f'Index: {value}')\n",
    "    print(f'===============')"
   ]
  },
  {
   "cell_type": "code",
   "execution_count": 26,
   "metadata": {},
   "outputs": [
    {
     "data": {
      "text/plain": [
       "{'Name': 'Josh', 'Englsih': 99, 'Math': 60, 'Chiness': 85}"
      ]
     },
     "execution_count": 26,
     "metadata": {},
     "output_type": "execute_result"
    }
   ],
   "source": [
    "Students:dict[str,int] = {'Name':'Josh','Englsih':99,'Math':60,'Chiness':85}      \n",
    "Students"
   ]
  },
  {
   "cell_type": "code",
   "execution_count": 30,
   "metadata": {},
   "outputs": [
    {
     "name": "stdout",
     "output_type": "stream",
     "text": [
      "Name\n",
      "Josh\n",
      "=============\n",
      "Englsih\n",
      "99\n",
      "=============\n",
      "Math\n",
      "60\n",
      "=============\n",
      "Chiness\n",
      "85\n",
      "=============\n"
     ]
    }
   ],
   "source": [
    "for key,value in Students.items():\n",
    "    print(key)\n",
    "    print(value)\n",
    "    print('=============')"
   ]
  },
  {
   "cell_type": "code",
   "execution_count": 32,
   "metadata": {},
   "outputs": [
    {
     "name": "stdout",
     "output_type": "stream",
     "text": [
      "Josh\n",
      "99\n",
      "60\n",
      "85\n"
     ]
    }
   ],
   "source": [
    "for values in Students.values():\n",
    "    print(values)"
   ]
  },
  {
   "cell_type": "code",
   "execution_count": 37,
   "metadata": {},
   "outputs": [
    {
     "name": "stdout",
     "output_type": "stream",
     "text": [
      "key:Name ,values: Josh\n",
      "key:Englsih ,values: 99\n",
      "key:Math ,values: 60\n",
      "key:Chiness ,values: 85\n",
      "=====================\n",
      "key:Name ,values: Jone\n",
      "key:Englsih ,values: 99\n",
      "key:Math ,values: 80\n",
      "key:Chiness ,values: 75\n",
      "=====================\n",
      "key:Name ,values: Nash\n",
      "key:Englsih ,values: 99\n",
      "key:Math ,values: 50\n",
      "key:Chiness ,values: 100\n",
      "=====================\n"
     ]
    }
   ],
   "source": [
    "Students_Detail:dict[str,int] = [\n",
    "                  {'Name':'Josh','Englsih':99,'Math':60,'Chiness':85},\n",
    "                  {'Name':'Jone','Englsih':99,'Math':80,'Chiness':75},\n",
    "                  {'Name':'Nash','Englsih':99,'Math':50,'Chiness':100},\n",
    "                  ]\n",
    "\n",
    "for students in Students_Detail:\n",
    "    for key,values in students.items():\n",
    "        # print(key)\n",
    "        # print(values)\n",
    "        print(f'key:{key} ,values: {values}')\n",
    "    print('=====================')"
   ]
  },
  {
   "cell_type": "code",
   "execution_count": 39,
   "metadata": {},
   "outputs": [],
   "source": [
    "def say_hello(name):\n",
    "    print(f'HEllo !{name}')\n"
   ]
  },
  {
   "cell_type": "code",
   "execution_count": 41,
   "metadata": {},
   "outputs": [
    {
     "name": "stdout",
     "output_type": "stream",
     "text": [
      "HEllo !jason\n",
      "HEllo !nelson\n"
     ]
    }
   ],
   "source": [
    "say_hello('jason')\n",
    "say_hello(name = 'nelson')"
   ]
  },
  {
   "cell_type": "code",
   "execution_count": 45,
   "metadata": {},
   "outputs": [],
   "source": [
    "def menu(win,entree,dessert):\n",
    "    print(f'飲品:{win}')\n",
    "    print(f'前菜:{entree}')\n",
    "    print(f'甜點:{dessert}')\n"
   ]
  },
  {
   "cell_type": "code",
   "execution_count": 50,
   "metadata": {},
   "outputs": [
    {
     "name": "stdout",
     "output_type": "stream",
     "text": [
      "飲品:白酒\n",
      "前菜:沙拉\n",
      "甜點:提拉米蘇\n",
      "=======================\n",
      "飲品:紅酒\n",
      "前菜:牛排\n",
      "甜點:千層糕\n",
      "=======================\n",
      "飲品:啤酒\n",
      "前菜:雞肉串\n",
      "甜點:鳳梨酥\n"
     ]
    }
   ],
   "source": [
    "#依照順序\n",
    "menu('白酒','沙拉','提拉米蘇')\n",
    "print('=======================')\n",
    "\n",
    "#引述名稱呼叫，可不需照順序\n",
    "menu(win='紅酒',entree='牛排',dessert='千層糕')\n",
    "print('=======================')\n",
    "\n",
    "#混合呼叫\n",
    "#前使用引述值\n",
    "#後使用引述名稱\n",
    "menu('啤酒',entree='雞肉串',dessert='鳳梨酥')"
   ]
  },
  {
   "cell_type": "code",
   "execution_count": 57,
   "metadata": {},
   "outputs": [],
   "source": [
    "#function 傳出值\n",
    "def menu(win:str,entree:str,dessert:str)->dict[str,str]:\n",
    "    # print(f'飲品:{win}')\n",
    "    # print(f'前菜:{entree}')\n",
    "    # print(f'甜點:{dessert}')\n",
    "    return {f'飲品:{win} ,前菜:{entree},甜點:{dessert}'}"
   ]
  },
  {
   "cell_type": "code",
   "execution_count": 58,
   "metadata": {},
   "outputs": [
    {
     "name": "stdout",
     "output_type": "stream",
     "text": [
      "{'飲品:啤酒 ,前菜:雞肉串,甜點:鳳梨酥'}\n"
     ]
    }
   ],
   "source": [
    "myorder = menu('啤酒',entree='雞肉串',dessert='鳳梨酥')\n",
    "print(myorder)"
   ]
  },
  {
   "cell_type": "code",
   "execution_count": 64,
   "metadata": {},
   "outputs": [
    {
     "name": "stdout",
     "output_type": "stream",
     "text": [
      "{'飲品:威士忌 ,前菜:肋排,甜點:蛋糕'}\n",
      "{'飲品:紅酒 ,前菜:肋排,甜點:千層蛋糕'}\n",
      "{'飲品:威士忌 ,前菜:肋排,甜點:千層餅'}\n",
      "{'飲品:啤酒 ,前菜:牛排,甜點:蛋糕'}\n"
     ]
    }
   ],
   "source": [
    "def menu(win:str='啤酒',entree:str='牛排',dessert:str='蛋糕')->dict[str,str]:\n",
    "     return {f'飲品:{win} ,前菜:{entree},甜點:{dessert}'}\n",
    "\n",
    "print(menu('威士忌','肋排'))\n",
    "print(menu('紅酒','肋排','千層蛋糕'))\n",
    "print(menu('威士忌','肋排',dessert = '千層餅'))\n",
    "print(menu())\n"
   ]
  },
  {
   "cell_type": "code",
   "execution_count": 66,
   "metadata": {},
   "outputs": [
    {
     "name": "stdout",
     "output_type": "stream",
     "text": [
      "()\n",
      "('啤酒', '威士忌', '紅酒')\n"
     ]
    }
   ],
   "source": [
    "def menu1(*args):\n",
    "    print(args)\n",
    "\n",
    "menu1()\n",
    "menu1('啤酒','威士忌','紅酒')"
   ]
  },
  {
   "cell_type": "code",
   "execution_count": 68,
   "metadata": {},
   "outputs": [
    {
     "name": "stdout",
     "output_type": "stream",
     "text": [
      "{}\n",
      "{'酒1': '啤酒', '酒2': '威士忌', '酒3': '紅酒'}\n"
     ]
    }
   ],
   "source": [
    "def menu2(**kwargs):\n",
    "    print(kwargs)\n",
    "\n",
    "menu2()\n",
    "menu2(酒1='啤酒',酒2='威士忌',酒3='紅酒')"
   ]
  },
  {
   "cell_type": "code",
   "execution_count": 69,
   "metadata": {},
   "outputs": [
    {
     "name": "stdout",
     "output_type": "stream",
     "text": [
      "1-2-123\n"
     ]
    }
   ],
   "source": [
    "print(1,2,'123',sep='-')"
   ]
  }
 ],
 "metadata": {
  "kernelspec": {
   "display_name": "Python 3",
   "language": "python",
   "name": "python3"
  },
  "language_info": {
   "codemirror_mode": {
    "name": "ipython",
    "version": 3
   },
   "file_extension": ".py",
   "mimetype": "text/x-python",
   "name": "python",
   "nbconvert_exporter": "python",
   "pygments_lexer": "ipython3",
   "version": "3.10.13"
  }
 },
 "nbformat": 4,
 "nbformat_minor": 2
}
