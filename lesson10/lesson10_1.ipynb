{
 "cells": [
  {
   "cell_type": "code",
   "execution_count": null,
   "metadata": {},
   "outputs": [],
   "source": [
    "#讀取 names.txt\n",
    "\n",
    "files = open('names.txt',encoding='utf-8')\n",
    "# type(files)\n",
    "contant:str = files.read()\n",
    "print(contant)\n",
    "# print(files.closed)\n",
    "files.close()\n",
    "print(files.closed)"
   ]
  },
  {
   "cell_type": "code",
   "execution_count": null,
   "metadata": {},
   "outputs": [],
   "source": [
    "with open('names.txt',encoding='utf-8') as files :\n",
    "    content:str = files.read()\n",
    "\n",
    "# print(content)\n",
    "# content.split(sep='\\n')\n",
    "names:list[str] = content.split(sep='\\n')\n",
    "for name in names:\n",
    "    print(name)\n",
    "# display(content)"
   ]
  },
  {
   "cell_type": "code",
   "execution_count": null,
   "metadata": {},
   "outputs": [],
   "source": [
    "import random\n",
    "\n",
    "random.randint(1,100)\n"
   ]
  },
  {
   "cell_type": "code",
   "execution_count": null,
   "metadata": {},
   "outputs": [],
   "source": [
    "students_name = random.choice(names)\n",
    "students_name1:list[str] =random.choices(names,k=5)\n",
    "\n",
    "for names in students_name1:\n",
    "    print(names)"
   ]
  },
  {
   "cell_type": "code",
   "execution_count": null,
   "metadata": {},
   "outputs": [],
   "source": [
    "student:list[dict] = []\n",
    "for students_name in students_name1:\n",
    "    students:dict ={} #dict()\n",
    "    students['name'] = students_name\n",
    "    students['國文'] = random.randint(60,100)\n",
    "    students['英文'] = random.randint(60,100)\n",
    "    students['數學'] = random.randint(60,100)\n",
    "    # print(students)\n",
    "    student.append(students)\n",
    "student\n",
    "\n",
    "\n",
    "\n",
    "\n"
   ]
  }
 ],
 "metadata": {
  "kernelspec": {
   "display_name": "Python 3",
   "language": "python",
   "name": "python3"
  },
  "language_info": {
   "codemirror_mode": {
    "name": "ipython",
    "version": 3
   },
   "file_extension": ".py",
   "mimetype": "text/x-python",
   "name": "python",
   "nbconvert_exporter": "python",
   "pygments_lexer": "ipython3",
   "version": "3.10.13"
  }
 },
 "nbformat": 4,
 "nbformat_minor": 2
}
